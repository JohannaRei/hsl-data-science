{
 "cells": [
  {
   "cell_type": "code",
   "execution_count": 1,
   "metadata": {},
   "outputs": [],
   "source": [
    "import numpy as np\n",
    "import scipy.misc\n",
    "import pandas as pd\n",
    "import matplotlib.pyplot as plt\n",
    "from sklearn.model_selection import train_test_split\n",
    "from sklearn.linear_model import LogisticRegression\n",
    "from sklearn.dummy import DummyClassifier\n",
    "from sklearn import tree\n",
    "from sklearn.ensemble import RandomForestClassifier\n",
    "from tpot import TPOTClassifier"
   ]
  },
  {
   "cell_type": "code",
   "execution_count": 2,
   "metadata": {},
   "outputs": [],
   "source": [
    "culled_data = pd.read_csv('culled_data.csv.gz', dtype={'line':'category', \n",
    "                                                       'vehicle':'category', \n",
    "                                                       'precipType':'category',\n",
    "                                                       'late':'category',\n",
    "                                                       'dayOfWeek':'category',\n",
    "                                                       'hourOfDay':'category'})"
   ]
  },
  {
   "cell_type": "code",
   "execution_count": 3,
   "metadata": {},
   "outputs": [],
   "source": [
    "culled_data['delay'].fillna(culled_data['delay'].mean(), inplace=True)"
   ]
  },
  {
   "cell_type": "code",
   "execution_count": 4,
   "metadata": {},
   "outputs": [],
   "source": [
    "#culled_data.groupby('vehicle').delay.mean()"
   ]
  },
  {
   "cell_type": "code",
   "execution_count": 5,
   "metadata": {},
   "outputs": [
    {
     "data": {
      "text/html": [
       "<div>\n",
       "<style>\n",
       "    .dataframe thead tr:only-child th {\n",
       "        text-align: right;\n",
       "    }\n",
       "\n",
       "    .dataframe thead th {\n",
       "        text-align: left;\n",
       "    }\n",
       "\n",
       "    .dataframe tbody tr th {\n",
       "        vertical-align: top;\n",
       "    }\n",
       "</style>\n",
       "<table border=\"1\" class=\"dataframe\">\n",
       "  <thead>\n",
       "    <tr style=\"text-align: right;\">\n",
       "      <th></th>\n",
       "      <th>line</th>\n",
       "      <th>delay</th>\n",
       "      <th>latitude</th>\n",
       "      <th>longitude</th>\n",
       "      <th>speed</th>\n",
       "      <th>time</th>\n",
       "      <th>vehicle</th>\n",
       "      <th>apparentTemperature</th>\n",
       "      <th>cloudCover</th>\n",
       "      <th>dewPoint</th>\n",
       "      <th>...</th>\n",
       "      <th>pressure</th>\n",
       "      <th>temperature</th>\n",
       "      <th>uvIndex</th>\n",
       "      <th>visibility</th>\n",
       "      <th>windBearing</th>\n",
       "      <th>windGust</th>\n",
       "      <th>windSpeed</th>\n",
       "      <th>late</th>\n",
       "      <th>dayOfWeek</th>\n",
       "      <th>hourOfDay</th>\n",
       "    </tr>\n",
       "  </thead>\n",
       "  <tbody>\n",
       "    <tr>\n",
       "      <th>0</th>\n",
       "      <td>4</td>\n",
       "      <td>50.0</td>\n",
       "      <td>60.16880</td>\n",
       "      <td>24.80383</td>\n",
       "      <td>0.0</td>\n",
       "      <td>1507685150</td>\n",
       "      <td>2076</td>\n",
       "      <td>6.28</td>\n",
       "      <td>0.83</td>\n",
       "      <td>7.13</td>\n",
       "      <td>...</td>\n",
       "      <td>993.75</td>\n",
       "      <td>7.72</td>\n",
       "      <td>0.0</td>\n",
       "      <td>8.64</td>\n",
       "      <td>45.0</td>\n",
       "      <td>7.77</td>\n",
       "      <td>8.29</td>\n",
       "      <td>0</td>\n",
       "      <td>2</td>\n",
       "      <td>4</td>\n",
       "    </tr>\n",
       "    <tr>\n",
       "      <th>1</th>\n",
       "      <td>4</td>\n",
       "      <td>50.0</td>\n",
       "      <td>60.16880</td>\n",
       "      <td>24.80383</td>\n",
       "      <td>0.0</td>\n",
       "      <td>1507685150</td>\n",
       "      <td>2076</td>\n",
       "      <td>6.28</td>\n",
       "      <td>0.83</td>\n",
       "      <td>7.13</td>\n",
       "      <td>...</td>\n",
       "      <td>993.75</td>\n",
       "      <td>7.72</td>\n",
       "      <td>0.0</td>\n",
       "      <td>8.64</td>\n",
       "      <td>45.0</td>\n",
       "      <td>7.77</td>\n",
       "      <td>8.29</td>\n",
       "      <td>0</td>\n",
       "      <td>2</td>\n",
       "      <td>4</td>\n",
       "    </tr>\n",
       "    <tr>\n",
       "      <th>2</th>\n",
       "      <td>4</td>\n",
       "      <td>80.0</td>\n",
       "      <td>60.20982</td>\n",
       "      <td>25.07738</td>\n",
       "      <td>0.0</td>\n",
       "      <td>1507685180</td>\n",
       "      <td>4712</td>\n",
       "      <td>6.28</td>\n",
       "      <td>0.83</td>\n",
       "      <td>7.13</td>\n",
       "      <td>...</td>\n",
       "      <td>993.75</td>\n",
       "      <td>7.72</td>\n",
       "      <td>0.0</td>\n",
       "      <td>8.64</td>\n",
       "      <td>45.0</td>\n",
       "      <td>7.77</td>\n",
       "      <td>8.29</td>\n",
       "      <td>1</td>\n",
       "      <td>2</td>\n",
       "      <td>4</td>\n",
       "    </tr>\n",
       "    <tr>\n",
       "      <th>3</th>\n",
       "      <td>4</td>\n",
       "      <td>80.0</td>\n",
       "      <td>60.20982</td>\n",
       "      <td>25.07738</td>\n",
       "      <td>0.0</td>\n",
       "      <td>1507685180</td>\n",
       "      <td>4712</td>\n",
       "      <td>6.28</td>\n",
       "      <td>0.83</td>\n",
       "      <td>7.13</td>\n",
       "      <td>...</td>\n",
       "      <td>993.75</td>\n",
       "      <td>7.72</td>\n",
       "      <td>0.0</td>\n",
       "      <td>8.64</td>\n",
       "      <td>45.0</td>\n",
       "      <td>7.77</td>\n",
       "      <td>8.29</td>\n",
       "      <td>1</td>\n",
       "      <td>2</td>\n",
       "      <td>4</td>\n",
       "    </tr>\n",
       "    <tr>\n",
       "      <th>4</th>\n",
       "      <td>4</td>\n",
       "      <td>67.0</td>\n",
       "      <td>60.17083</td>\n",
       "      <td>24.81079</td>\n",
       "      <td>0.0</td>\n",
       "      <td>1507685227</td>\n",
       "      <td>2076</td>\n",
       "      <td>6.28</td>\n",
       "      <td>0.83</td>\n",
       "      <td>7.13</td>\n",
       "      <td>...</td>\n",
       "      <td>993.75</td>\n",
       "      <td>7.72</td>\n",
       "      <td>0.0</td>\n",
       "      <td>8.64</td>\n",
       "      <td>45.0</td>\n",
       "      <td>7.77</td>\n",
       "      <td>8.29</td>\n",
       "      <td>1</td>\n",
       "      <td>2</td>\n",
       "      <td>4</td>\n",
       "    </tr>\n",
       "  </tbody>\n",
       "</table>\n",
       "<p>5 rows × 25 columns</p>\n",
       "</div>"
      ],
      "text/plain": [
       "  line  delay  latitude  longitude  speed        time vehicle  \\\n",
       "0    4   50.0  60.16880   24.80383    0.0  1507685150    2076   \n",
       "1    4   50.0  60.16880   24.80383    0.0  1507685150    2076   \n",
       "2    4   80.0  60.20982   25.07738    0.0  1507685180    4712   \n",
       "3    4   80.0  60.20982   25.07738    0.0  1507685180    4712   \n",
       "4    4   67.0  60.17083   24.81079    0.0  1507685227    2076   \n",
       "\n",
       "   apparentTemperature  cloudCover  dewPoint    ...      pressure  \\\n",
       "0                 6.28        0.83      7.13    ...        993.75   \n",
       "1                 6.28        0.83      7.13    ...        993.75   \n",
       "2                 6.28        0.83      7.13    ...        993.75   \n",
       "3                 6.28        0.83      7.13    ...        993.75   \n",
       "4                 6.28        0.83      7.13    ...        993.75   \n",
       "\n",
       "   temperature  uvIndex  visibility windBearing  windGust  windSpeed  late  \\\n",
       "0         7.72      0.0        8.64        45.0      7.77       8.29     0   \n",
       "1         7.72      0.0        8.64        45.0      7.77       8.29     0   \n",
       "2         7.72      0.0        8.64        45.0      7.77       8.29     1   \n",
       "3         7.72      0.0        8.64        45.0      7.77       8.29     1   \n",
       "4         7.72      0.0        8.64        45.0      7.77       8.29     1   \n",
       "\n",
       "   dayOfWeek  hourOfDay  \n",
       "0          2          4  \n",
       "1          2          4  \n",
       "2          2          4  \n",
       "3          2          4  \n",
       "4          2          4  \n",
       "\n",
       "[5 rows x 25 columns]"
      ]
     },
     "execution_count": 5,
     "metadata": {},
     "output_type": "execute_result"
    }
   ],
   "source": [
    "culled_data.head()"
   ]
  },
  {
   "cell_type": "code",
   "execution_count": 6,
   "metadata": {},
   "outputs": [],
   "source": [
    "#unique_late_vals = culled_data.groupby('vehicle').late.apply(lambda x: x.nunique())\n",
    "#outlier_vehicles = unique_late_vals[unique_late_vals < 2]\n",
    "\n",
    "#culled_data = culled_data[~culled_data['vehicle'].isin(list(outlier_vehicles.index))]"
   ]
  },
  {
   "cell_type": "code",
   "execution_count": 7,
   "metadata": {},
   "outputs": [],
   "source": [
    "#mean_delays = culled_data.groupby('vehicle').delay.mean()\n",
    "#outlier_vehicles = mean_delays[mean_delays > 60]\n",
    "\n",
    "#culled_data = culled_data[~culled_data['vehicle'].isin(list(outlier_vehicles.index))]"
   ]
  },
  {
   "cell_type": "code",
   "execution_count": 8,
   "metadata": {},
   "outputs": [],
   "source": [
    "#mean_delays = culled_data.groupby('vehicle').delay.mean()\n",
    "#outlier_vehicles = mean_delays[mean_delays < -60]\n",
    "\n",
    "#culled_data = culled_data[~culled_data['vehicle'].isin(list(outlier_vehicles.index))]"
   ]
  },
  {
   "cell_type": "markdown",
   "metadata": {},
   "source": [
    "# Split into training and test data"
   ]
  },
  {
   "cell_type": "code",
   "execution_count": 9,
   "metadata": {},
   "outputs": [
    {
     "data": {
      "text/html": [
       "<div>\n",
       "<style>\n",
       "    .dataframe thead tr:only-child th {\n",
       "        text-align: right;\n",
       "    }\n",
       "\n",
       "    .dataframe thead th {\n",
       "        text-align: left;\n",
       "    }\n",
       "\n",
       "    .dataframe tbody tr th {\n",
       "        vertical-align: top;\n",
       "    }\n",
       "</style>\n",
       "<table border=\"1\" class=\"dataframe\">\n",
       "  <thead>\n",
       "    <tr style=\"text-align: right;\">\n",
       "      <th></th>\n",
       "      <th>line</th>\n",
       "      <th>latitude</th>\n",
       "      <th>longitude</th>\n",
       "      <th>speed</th>\n",
       "      <th>time</th>\n",
       "      <th>vehicle</th>\n",
       "      <th>apparentTemperature</th>\n",
       "      <th>cloudCover</th>\n",
       "      <th>dewPoint</th>\n",
       "      <th>humidity</th>\n",
       "      <th>...</th>\n",
       "      <th>precipType</th>\n",
       "      <th>pressure</th>\n",
       "      <th>temperature</th>\n",
       "      <th>uvIndex</th>\n",
       "      <th>visibility</th>\n",
       "      <th>windBearing</th>\n",
       "      <th>windGust</th>\n",
       "      <th>windSpeed</th>\n",
       "      <th>dayOfWeek</th>\n",
       "      <th>hourOfDay</th>\n",
       "    </tr>\n",
       "  </thead>\n",
       "  <tbody>\n",
       "    <tr>\n",
       "      <th>0</th>\n",
       "      <td>4</td>\n",
       "      <td>60.16880</td>\n",
       "      <td>24.80383</td>\n",
       "      <td>0.0</td>\n",
       "      <td>1507685150</td>\n",
       "      <td>2076</td>\n",
       "      <td>6.28</td>\n",
       "      <td>0.83</td>\n",
       "      <td>7.13</td>\n",
       "      <td>0.96</td>\n",
       "      <td>...</td>\n",
       "      <td>1</td>\n",
       "      <td>993.75</td>\n",
       "      <td>7.72</td>\n",
       "      <td>0.0</td>\n",
       "      <td>8.64</td>\n",
       "      <td>45.0</td>\n",
       "      <td>7.77</td>\n",
       "      <td>8.29</td>\n",
       "      <td>2</td>\n",
       "      <td>4</td>\n",
       "    </tr>\n",
       "    <tr>\n",
       "      <th>1</th>\n",
       "      <td>4</td>\n",
       "      <td>60.16880</td>\n",
       "      <td>24.80383</td>\n",
       "      <td>0.0</td>\n",
       "      <td>1507685150</td>\n",
       "      <td>2076</td>\n",
       "      <td>6.28</td>\n",
       "      <td>0.83</td>\n",
       "      <td>7.13</td>\n",
       "      <td>0.96</td>\n",
       "      <td>...</td>\n",
       "      <td>1</td>\n",
       "      <td>993.75</td>\n",
       "      <td>7.72</td>\n",
       "      <td>0.0</td>\n",
       "      <td>8.64</td>\n",
       "      <td>45.0</td>\n",
       "      <td>7.77</td>\n",
       "      <td>8.29</td>\n",
       "      <td>2</td>\n",
       "      <td>4</td>\n",
       "    </tr>\n",
       "    <tr>\n",
       "      <th>2</th>\n",
       "      <td>4</td>\n",
       "      <td>60.20982</td>\n",
       "      <td>25.07738</td>\n",
       "      <td>0.0</td>\n",
       "      <td>1507685180</td>\n",
       "      <td>4712</td>\n",
       "      <td>6.28</td>\n",
       "      <td>0.83</td>\n",
       "      <td>7.13</td>\n",
       "      <td>0.96</td>\n",
       "      <td>...</td>\n",
       "      <td>1</td>\n",
       "      <td>993.75</td>\n",
       "      <td>7.72</td>\n",
       "      <td>0.0</td>\n",
       "      <td>8.64</td>\n",
       "      <td>45.0</td>\n",
       "      <td>7.77</td>\n",
       "      <td>8.29</td>\n",
       "      <td>2</td>\n",
       "      <td>4</td>\n",
       "    </tr>\n",
       "    <tr>\n",
       "      <th>3</th>\n",
       "      <td>4</td>\n",
       "      <td>60.20982</td>\n",
       "      <td>25.07738</td>\n",
       "      <td>0.0</td>\n",
       "      <td>1507685180</td>\n",
       "      <td>4712</td>\n",
       "      <td>6.28</td>\n",
       "      <td>0.83</td>\n",
       "      <td>7.13</td>\n",
       "      <td>0.96</td>\n",
       "      <td>...</td>\n",
       "      <td>1</td>\n",
       "      <td>993.75</td>\n",
       "      <td>7.72</td>\n",
       "      <td>0.0</td>\n",
       "      <td>8.64</td>\n",
       "      <td>45.0</td>\n",
       "      <td>7.77</td>\n",
       "      <td>8.29</td>\n",
       "      <td>2</td>\n",
       "      <td>4</td>\n",
       "    </tr>\n",
       "    <tr>\n",
       "      <th>4</th>\n",
       "      <td>4</td>\n",
       "      <td>60.17083</td>\n",
       "      <td>24.81079</td>\n",
       "      <td>0.0</td>\n",
       "      <td>1507685227</td>\n",
       "      <td>2076</td>\n",
       "      <td>6.28</td>\n",
       "      <td>0.83</td>\n",
       "      <td>7.13</td>\n",
       "      <td>0.96</td>\n",
       "      <td>...</td>\n",
       "      <td>1</td>\n",
       "      <td>993.75</td>\n",
       "      <td>7.72</td>\n",
       "      <td>0.0</td>\n",
       "      <td>8.64</td>\n",
       "      <td>45.0</td>\n",
       "      <td>7.77</td>\n",
       "      <td>8.29</td>\n",
       "      <td>2</td>\n",
       "      <td>4</td>\n",
       "    </tr>\n",
       "  </tbody>\n",
       "</table>\n",
       "<p>5 rows × 23 columns</p>\n",
       "</div>"
      ],
      "text/plain": [
       "  line  latitude  longitude  speed        time vehicle  apparentTemperature  \\\n",
       "0    4  60.16880   24.80383    0.0  1507685150    2076                 6.28   \n",
       "1    4  60.16880   24.80383    0.0  1507685150    2076                 6.28   \n",
       "2    4  60.20982   25.07738    0.0  1507685180    4712                 6.28   \n",
       "3    4  60.20982   25.07738    0.0  1507685180    4712                 6.28   \n",
       "4    4  60.17083   24.81079    0.0  1507685227    2076                 6.28   \n",
       "\n",
       "   cloudCover  dewPoint  humidity    ...      precipType  pressure  \\\n",
       "0        0.83      7.13      0.96    ...               1    993.75   \n",
       "1        0.83      7.13      0.96    ...               1    993.75   \n",
       "2        0.83      7.13      0.96    ...               1    993.75   \n",
       "3        0.83      7.13      0.96    ...               1    993.75   \n",
       "4        0.83      7.13      0.96    ...               1    993.75   \n",
       "\n",
       "   temperature uvIndex  visibility  windBearing  windGust  windSpeed  \\\n",
       "0         7.72     0.0        8.64         45.0      7.77       8.29   \n",
       "1         7.72     0.0        8.64         45.0      7.77       8.29   \n",
       "2         7.72     0.0        8.64         45.0      7.77       8.29   \n",
       "3         7.72     0.0        8.64         45.0      7.77       8.29   \n",
       "4         7.72     0.0        8.64         45.0      7.77       8.29   \n",
       "\n",
       "   dayOfWeek  hourOfDay  \n",
       "0          2          4  \n",
       "1          2          4  \n",
       "2          2          4  \n",
       "3          2          4  \n",
       "4          2          4  \n",
       "\n",
       "[5 rows x 23 columns]"
      ]
     },
     "execution_count": 9,
     "metadata": {},
     "output_type": "execute_result"
    }
   ],
   "source": [
    "targets = culled_data['late']\n",
    "\n",
    "# These give away the answer\n",
    "data_vect = culled_data.drop(['late'], axis=1)\n",
    "data_vect = data_vect.drop(['delay'], axis=1)\n",
    "\n",
    "# Meaningless data that interferes with our models\n",
    "#data_vect = data_vect.drop(['latitude'], axis=1)\n",
    "#data_vect = data_vect.drop(['longitude'], axis=1)\n",
    "#data_vect = data_vect.drop(['time'], axis=1)\n",
    "\n",
    "#data_vect = data_vect.drop(['vehicle'], axis=1)\n",
    "\n",
    "data_vect.head()"
   ]
  },
  {
   "cell_type": "code",
   "execution_count": 10,
   "metadata": {},
   "outputs": [
    {
     "data": {
      "text/plain": [
       "(574573, 23)"
      ]
     },
     "execution_count": 10,
     "metadata": {},
     "output_type": "execute_result"
    }
   ],
   "source": [
    "data_vect.shape"
   ]
  },
  {
   "cell_type": "code",
   "execution_count": 11,
   "metadata": {},
   "outputs": [
    {
     "data": {
      "text/plain": [
       "(574573, 25)"
      ]
     },
     "execution_count": 11,
     "metadata": {},
     "output_type": "execute_result"
    }
   ],
   "source": [
    "culled_data.shape"
   ]
  },
  {
   "cell_type": "code",
   "execution_count": 12,
   "metadata": {},
   "outputs": [
    {
     "name": "stderr",
     "output_type": "stream",
     "text": [
      "/home/smw/.local/lib/python3.5/site-packages/sklearn/model_selection/_split.py:2026: FutureWarning: From version 0.21, test_size will always complement train_size unless both are specified.\n",
      "  FutureWarning)\n"
     ]
    },
    {
     "name": "stdout",
     "output_type": "stream",
     "text": [
      "training_data size =  459658\n",
      "test_data size =  114915\n"
     ]
    }
   ],
   "source": [
    "training_data, test_data, train_target, test_target = train_test_split(np.array(data_vect), \n",
    "                                                                       np.array(targets), \n",
    "                                                                       train_size=0.8)\n",
    "print('training_data size = ', len(training_data))\n",
    "print('test_data size = ', len(test_data))"
   ]
  },
  {
   "cell_type": "markdown",
   "metadata": {},
   "source": [
    "# Baseline (We have to beat this score)\n",
    "This is the success rate if you always guess that the bus is late"
   ]
  },
  {
   "cell_type": "code",
   "execution_count": 13,
   "metadata": {},
   "outputs": [
    {
     "data": {
      "text/plain": [
       "0.52896488709045819"
      ]
     },
     "execution_count": 13,
     "metadata": {},
     "output_type": "execute_result"
    }
   ],
   "source": [
    "dummy = DummyClassifier('most_frequent')\n",
    "dummy.fit(training_data, train_target)\n",
    "dummy.score(test_data, test_target)"
   ]
  },
  {
   "cell_type": "markdown",
   "metadata": {},
   "source": [
    "# Logistic Regression"
   ]
  },
  {
   "cell_type": "code",
   "execution_count": 14,
   "metadata": {},
   "outputs": [
    {
     "data": {
      "text/plain": [
       "0.52896488709045819"
      ]
     },
     "execution_count": 14,
     "metadata": {},
     "output_type": "execute_result"
    }
   ],
   "source": [
    "model = LogisticRegression()\n",
    "model.fit(training_data, train_target)\n",
    "model.score(test_data, test_target)"
   ]
  },
  {
   "cell_type": "markdown",
   "metadata": {},
   "source": [
    "# Decision Trees"
   ]
  },
  {
   "cell_type": "code",
   "execution_count": 15,
   "metadata": {},
   "outputs": [
    {
     "data": {
      "text/plain": [
       "0.93397728756037068"
      ]
     },
     "execution_count": 15,
     "metadata": {},
     "output_type": "execute_result"
    }
   ],
   "source": [
    "tree_model = tree.DecisionTreeClassifier()\n",
    "tree_model.fit(training_data, train_target)\n",
    "tree_model.score(test_data, test_target)"
   ]
  },
  {
   "cell_type": "code",
   "execution_count": 16,
   "metadata": {},
   "outputs": [
    {
     "data": {
      "text/html": [
       "<div>\n",
       "<style>\n",
       "    .dataframe thead tr:only-child th {\n",
       "        text-align: right;\n",
       "    }\n",
       "\n",
       "    .dataframe thead th {\n",
       "        text-align: left;\n",
       "    }\n",
       "\n",
       "    .dataframe tbody tr th {\n",
       "        vertical-align: top;\n",
       "    }\n",
       "</style>\n",
       "<table border=\"1\" class=\"dataframe\">\n",
       "  <thead>\n",
       "    <tr style=\"text-align: right;\">\n",
       "      <th></th>\n",
       "      <th>importance</th>\n",
       "    </tr>\n",
       "  </thead>\n",
       "  <tbody>\n",
       "    <tr>\n",
       "      <th>vehicle</th>\n",
       "      <td>0.271155</td>\n",
       "    </tr>\n",
       "    <tr>\n",
       "      <th>time</th>\n",
       "      <td>0.159677</td>\n",
       "    </tr>\n",
       "    <tr>\n",
       "      <th>longitude</th>\n",
       "      <td>0.134082</td>\n",
       "    </tr>\n",
       "    <tr>\n",
       "      <th>latitude</th>\n",
       "      <td>0.099188</td>\n",
       "    </tr>\n",
       "    <tr>\n",
       "      <th>ozone</th>\n",
       "      <td>0.031733</td>\n",
       "    </tr>\n",
       "    <tr>\n",
       "      <th>windSpeed</th>\n",
       "      <td>0.031116</td>\n",
       "    </tr>\n",
       "    <tr>\n",
       "      <th>windGust</th>\n",
       "      <td>0.030285</td>\n",
       "    </tr>\n",
       "    <tr>\n",
       "      <th>windBearing</th>\n",
       "      <td>0.029432</td>\n",
       "    </tr>\n",
       "    <tr>\n",
       "      <th>hourOfDay</th>\n",
       "      <td>0.028464</td>\n",
       "    </tr>\n",
       "    <tr>\n",
       "      <th>apparentTemperature</th>\n",
       "      <td>0.025696</td>\n",
       "    </tr>\n",
       "    <tr>\n",
       "      <th>dewPoint</th>\n",
       "      <td>0.024440</td>\n",
       "    </tr>\n",
       "    <tr>\n",
       "      <th>cloudCover</th>\n",
       "      <td>0.024254</td>\n",
       "    </tr>\n",
       "    <tr>\n",
       "      <th>line</th>\n",
       "      <td>0.022343</td>\n",
       "    </tr>\n",
       "    <tr>\n",
       "      <th>pressure</th>\n",
       "      <td>0.021275</td>\n",
       "    </tr>\n",
       "    <tr>\n",
       "      <th>temperature</th>\n",
       "      <td>0.019657</td>\n",
       "    </tr>\n",
       "    <tr>\n",
       "      <th>humidity</th>\n",
       "      <td>0.015845</td>\n",
       "    </tr>\n",
       "    <tr>\n",
       "      <th>visibility</th>\n",
       "      <td>0.012251</td>\n",
       "    </tr>\n",
       "    <tr>\n",
       "      <th>dayOfWeek</th>\n",
       "      <td>0.011092</td>\n",
       "    </tr>\n",
       "    <tr>\n",
       "      <th>uvIndex</th>\n",
       "      <td>0.003230</td>\n",
       "    </tr>\n",
       "    <tr>\n",
       "      <th>speed</th>\n",
       "      <td>0.001609</td>\n",
       "    </tr>\n",
       "    <tr>\n",
       "      <th>precipProbability</th>\n",
       "      <td>0.001498</td>\n",
       "    </tr>\n",
       "    <tr>\n",
       "      <th>precipIntensity</th>\n",
       "      <td>0.001244</td>\n",
       "    </tr>\n",
       "    <tr>\n",
       "      <th>precipType</th>\n",
       "      <td>0.000433</td>\n",
       "    </tr>\n",
       "  </tbody>\n",
       "</table>\n",
       "</div>"
      ],
      "text/plain": [
       "                     importance\n",
       "vehicle                0.271155\n",
       "time                   0.159677\n",
       "longitude              0.134082\n",
       "latitude               0.099188\n",
       "ozone                  0.031733\n",
       "windSpeed              0.031116\n",
       "windGust               0.030285\n",
       "windBearing            0.029432\n",
       "hourOfDay              0.028464\n",
       "apparentTemperature    0.025696\n",
       "dewPoint               0.024440\n",
       "cloudCover             0.024254\n",
       "line                   0.022343\n",
       "pressure               0.021275\n",
       "temperature            0.019657\n",
       "humidity               0.015845\n",
       "visibility             0.012251\n",
       "dayOfWeek              0.011092\n",
       "uvIndex                0.003230\n",
       "speed                  0.001609\n",
       "precipProbability      0.001498\n",
       "precipIntensity        0.001244\n",
       "precipType             0.000433"
      ]
     },
     "execution_count": 16,
     "metadata": {},
     "output_type": "execute_result"
    }
   ],
   "source": [
    "df = pd.DataFrame(tree_model.feature_importances_, index=data_vect.columns, columns=['importance'])\n",
    "df.sort_values(by='importance', ascending=False)"
   ]
  },
  {
   "cell_type": "markdown",
   "metadata": {},
   "source": [
    "# Random Forest"
   ]
  },
  {
   "cell_type": "code",
   "execution_count": 17,
   "metadata": {},
   "outputs": [
    {
     "data": {
      "text/plain": [
       "0.94919723273724055"
      ]
     },
     "execution_count": 17,
     "metadata": {},
     "output_type": "execute_result"
    }
   ],
   "source": [
    "forest_model = RandomForestClassifier(n_estimators=100, n_jobs=4)\n",
    "forest_model.fit(training_data, train_target)\n",
    "forest_model.score(test_data, test_target)"
   ]
  },
  {
   "cell_type": "code",
   "execution_count": 19,
   "metadata": {},
   "outputs": [
    {
     "data": {
      "text/plain": [
       "<bound method BaseForest.decision_path of RandomForestClassifier(bootstrap=True, class_weight=None, criterion='gini',\n",
       "            max_depth=None, max_features='auto', max_leaf_nodes=None,\n",
       "            min_impurity_decrease=0.0, min_impurity_split=None,\n",
       "            min_samples_leaf=1, min_samples_split=2,\n",
       "            min_weight_fraction_leaf=0.0, n_estimators=100, n_jobs=4,\n",
       "            oob_score=False, random_state=None, verbose=0,\n",
       "            warm_start=False)>"
      ]
     },
     "execution_count": 19,
     "metadata": {},
     "output_type": "execute_result"
    }
   ],
   "source": [
    "forest_model.decision_path"
   ]
  },
  {
   "cell_type": "code",
   "execution_count": 18,
   "metadata": {},
   "outputs": [],
   "source": [
    "import geopandas as gpd"
   ]
  },
  {
   "cell_type": "code",
   "execution_count": 20,
   "metadata": {},
   "outputs": [
    {
     "data": {
      "text/plain": [
       "array([ 0.05336412,  0.15818282,  0.18173865,  0.00369525,  0.15017751,\n",
       "        0.23348151,  0.0194818 ,  0.01391006,  0.02062305,  0.01182585,\n",
       "        0.02163887,  0.00160266,  0.00115499,  0.00092871,  0.02037312,\n",
       "        0.01859003,  0.00220856,  0.00733802,  0.01842683,  0.01944217,\n",
       "        0.01954881,  0.00578591,  0.0164807 ])"
      ]
     },
     "execution_count": 20,
     "metadata": {},
     "output_type": "execute_result"
    }
   ],
   "source": [
    "forest_model.feature_importances_"
   ]
  },
  {
   "cell_type": "code",
   "execution_count": 21,
   "metadata": {},
   "outputs": [
    {
     "data": {
      "text/html": [
       "<div>\n",
       "<style>\n",
       "    .dataframe thead tr:only-child th {\n",
       "        text-align: right;\n",
       "    }\n",
       "\n",
       "    .dataframe thead th {\n",
       "        text-align: left;\n",
       "    }\n",
       "\n",
       "    .dataframe tbody tr th {\n",
       "        vertical-align: top;\n",
       "    }\n",
       "</style>\n",
       "<table border=\"1\" class=\"dataframe\">\n",
       "  <thead>\n",
       "    <tr style=\"text-align: right;\">\n",
       "      <th></th>\n",
       "      <th>importance</th>\n",
       "    </tr>\n",
       "  </thead>\n",
       "  <tbody>\n",
       "    <tr>\n",
       "      <th>vehicle</th>\n",
       "      <td>0.233482</td>\n",
       "    </tr>\n",
       "    <tr>\n",
       "      <th>longitude</th>\n",
       "      <td>0.181739</td>\n",
       "    </tr>\n",
       "    <tr>\n",
       "      <th>latitude</th>\n",
       "      <td>0.158183</td>\n",
       "    </tr>\n",
       "    <tr>\n",
       "      <th>time</th>\n",
       "      <td>0.150178</td>\n",
       "    </tr>\n",
       "    <tr>\n",
       "      <th>line</th>\n",
       "      <td>0.053364</td>\n",
       "    </tr>\n",
       "    <tr>\n",
       "      <th>ozone</th>\n",
       "      <td>0.021639</td>\n",
       "    </tr>\n",
       "    <tr>\n",
       "      <th>dewPoint</th>\n",
       "      <td>0.020623</td>\n",
       "    </tr>\n",
       "    <tr>\n",
       "      <th>pressure</th>\n",
       "      <td>0.020373</td>\n",
       "    </tr>\n",
       "    <tr>\n",
       "      <th>windSpeed</th>\n",
       "      <td>0.019549</td>\n",
       "    </tr>\n",
       "    <tr>\n",
       "      <th>apparentTemperature</th>\n",
       "      <td>0.019482</td>\n",
       "    </tr>\n",
       "    <tr>\n",
       "      <th>windGust</th>\n",
       "      <td>0.019442</td>\n",
       "    </tr>\n",
       "    <tr>\n",
       "      <th>temperature</th>\n",
       "      <td>0.018590</td>\n",
       "    </tr>\n",
       "    <tr>\n",
       "      <th>windBearing</th>\n",
       "      <td>0.018427</td>\n",
       "    </tr>\n",
       "    <tr>\n",
       "      <th>hourOfDay</th>\n",
       "      <td>0.016481</td>\n",
       "    </tr>\n",
       "    <tr>\n",
       "      <th>cloudCover</th>\n",
       "      <td>0.013910</td>\n",
       "    </tr>\n",
       "    <tr>\n",
       "      <th>humidity</th>\n",
       "      <td>0.011826</td>\n",
       "    </tr>\n",
       "    <tr>\n",
       "      <th>visibility</th>\n",
       "      <td>0.007338</td>\n",
       "    </tr>\n",
       "    <tr>\n",
       "      <th>dayOfWeek</th>\n",
       "      <td>0.005786</td>\n",
       "    </tr>\n",
       "    <tr>\n",
       "      <th>speed</th>\n",
       "      <td>0.003695</td>\n",
       "    </tr>\n",
       "    <tr>\n",
       "      <th>uvIndex</th>\n",
       "      <td>0.002209</td>\n",
       "    </tr>\n",
       "    <tr>\n",
       "      <th>precipIntensity</th>\n",
       "      <td>0.001603</td>\n",
       "    </tr>\n",
       "    <tr>\n",
       "      <th>precipProbability</th>\n",
       "      <td>0.001155</td>\n",
       "    </tr>\n",
       "    <tr>\n",
       "      <th>precipType</th>\n",
       "      <td>0.000929</td>\n",
       "    </tr>\n",
       "  </tbody>\n",
       "</table>\n",
       "</div>"
      ],
      "text/plain": [
       "                     importance\n",
       "vehicle                0.233482\n",
       "longitude              0.181739\n",
       "latitude               0.158183\n",
       "time                   0.150178\n",
       "line                   0.053364\n",
       "ozone                  0.021639\n",
       "dewPoint               0.020623\n",
       "pressure               0.020373\n",
       "windSpeed              0.019549\n",
       "apparentTemperature    0.019482\n",
       "windGust               0.019442\n",
       "temperature            0.018590\n",
       "windBearing            0.018427\n",
       "hourOfDay              0.016481\n",
       "cloudCover             0.013910\n",
       "humidity               0.011826\n",
       "visibility             0.007338\n",
       "dayOfWeek              0.005786\n",
       "speed                  0.003695\n",
       "uvIndex                0.002209\n",
       "precipIntensity        0.001603\n",
       "precipProbability      0.001155\n",
       "precipType             0.000929"
      ]
     },
     "execution_count": 21,
     "metadata": {},
     "output_type": "execute_result"
    }
   ],
   "source": [
    "df = pd.DataFrame(forest_model.feature_importances_, index=data_vect.columns, columns=['importance'])\n",
    "df.sort_values(by='importance', ascending=False)"
   ]
  },
  {
   "cell_type": "code",
   "execution_count": null,
   "metadata": {},
   "outputs": [],
   "source": []
  }
 ],
 "metadata": {
  "kernelspec": {
   "display_name": "Python 3",
   "language": "python",
   "name": "python3"
  },
  "language_info": {
   "codemirror_mode": {
    "name": "ipython",
    "version": 3
   },
   "file_extension": ".py",
   "mimetype": "text/x-python",
   "name": "python",
   "nbconvert_exporter": "python",
   "pygments_lexer": "ipython3",
   "version": "3.5.3"
  }
 },
 "nbformat": 4,
 "nbformat_minor": 2
}
