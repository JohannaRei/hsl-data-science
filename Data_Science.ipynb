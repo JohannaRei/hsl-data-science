{
 "cells": [
  {
   "cell_type": "code",
   "execution_count": 1,
   "metadata": {},
   "outputs": [],
   "source": [
    "import numpy as np\n",
    "import scipy.misc\n",
    "import pandas as pd\n",
    "import matplotlib.pyplot as plt\n",
    "from sklearn.model_selection import train_test_split\n",
    "from sklearn.linear_model import LogisticRegression\n",
    "from sklearn.dummy import DummyClassifier\n",
    "from sklearn import tree\n",
    "from sklearn.ensemble import RandomForestClassifier\n",
    "from tpot import TPOTClassifier"
   ]
  },
  {
   "cell_type": "code",
   "execution_count": 2,
   "metadata": {},
   "outputs": [],
   "source": [
    "culled_data = pd.read_csv('culled_data.csv.gz', dtype={'line':'category', 'vehicle':'category', 'precipType':'category'})"
   ]
  },
  {
   "cell_type": "code",
   "execution_count": 3,
   "metadata": {},
   "outputs": [],
   "source": [
    "culled_data['line'] = culled_data['line'].cat.codes\n",
    "culled_data['vehicle'] = culled_data['vehicle'].cat.codes\n",
    "culled_data['precipType'] = culled_data['precipType'].cat.codes"
   ]
  },
  {
   "cell_type": "code",
   "execution_count": 4,
   "metadata": {},
   "outputs": [],
   "source": [
    "culled_data['latitude'].fillna(culled_data['latitude'].mean(), inplace=True)\n",
    "culled_data['longitude'].fillna(culled_data['longitude'].mean(), inplace=True)\n",
    "culled_data['visibility'].fillna(culled_data['visibility'].mean(), inplace=True)\n",
    "culled_data['delay'].fillna(culled_data['delay'].mean(), inplace=True)"
   ]
  },
  {
   "cell_type": "markdown",
   "metadata": {},
   "source": [
    "# Split into training and test data"
   ]
  },
  {
   "cell_type": "code",
   "execution_count": 26,
   "metadata": {},
   "outputs": [
    {
     "data": {
      "text/html": [
       "<div>\n",
       "<style>\n",
       "    .dataframe thead tr:only-child th {\n",
       "        text-align: right;\n",
       "    }\n",
       "\n",
       "    .dataframe thead th {\n",
       "        text-align: left;\n",
       "    }\n",
       "\n",
       "    .dataframe tbody tr th {\n",
       "        vertical-align: top;\n",
       "    }\n",
       "</style>\n",
       "<table border=\"1\" class=\"dataframe\">\n",
       "  <thead>\n",
       "    <tr style=\"text-align: right;\">\n",
       "      <th></th>\n",
       "      <th>line</th>\n",
       "      <th>speed</th>\n",
       "      <th>vehicle</th>\n",
       "      <th>apparentTemperature</th>\n",
       "      <th>cloudCover</th>\n",
       "      <th>dewPoint</th>\n",
       "      <th>humidity</th>\n",
       "      <th>ozone</th>\n",
       "      <th>precipIntensity</th>\n",
       "      <th>precipProbability</th>\n",
       "      <th>precipType</th>\n",
       "      <th>pressure</th>\n",
       "      <th>temperature</th>\n",
       "      <th>uvIndex</th>\n",
       "      <th>visibility</th>\n",
       "      <th>windBearing</th>\n",
       "      <th>windGust</th>\n",
       "      <th>windSpeed</th>\n",
       "      <th>dayOfWeek</th>\n",
       "      <th>hourOfDay</th>\n",
       "    </tr>\n",
       "  </thead>\n",
       "  <tbody>\n",
       "    <tr>\n",
       "      <th>0</th>\n",
       "      <td>1</td>\n",
       "      <td>0.0</td>\n",
       "      <td>1127</td>\n",
       "      <td>6.28</td>\n",
       "      <td>0.83</td>\n",
       "      <td>7.13</td>\n",
       "      <td>0.96</td>\n",
       "      <td>315.98</td>\n",
       "      <td>0.0051</td>\n",
       "      <td>0.27</td>\n",
       "      <td>1</td>\n",
       "      <td>993.75</td>\n",
       "      <td>7.72</td>\n",
       "      <td>0.0</td>\n",
       "      <td>8.64</td>\n",
       "      <td>45.0</td>\n",
       "      <td>7.77</td>\n",
       "      <td>8.29</td>\n",
       "      <td>2</td>\n",
       "      <td>4</td>\n",
       "    </tr>\n",
       "    <tr>\n",
       "      <th>1</th>\n",
       "      <td>1</td>\n",
       "      <td>0.0</td>\n",
       "      <td>1127</td>\n",
       "      <td>6.28</td>\n",
       "      <td>0.83</td>\n",
       "      <td>7.13</td>\n",
       "      <td>0.96</td>\n",
       "      <td>315.98</td>\n",
       "      <td>0.0051</td>\n",
       "      <td>0.27</td>\n",
       "      <td>1</td>\n",
       "      <td>993.75</td>\n",
       "      <td>7.72</td>\n",
       "      <td>0.0</td>\n",
       "      <td>8.64</td>\n",
       "      <td>45.0</td>\n",
       "      <td>7.77</td>\n",
       "      <td>8.29</td>\n",
       "      <td>2</td>\n",
       "      <td>4</td>\n",
       "    </tr>\n",
       "    <tr>\n",
       "      <th>2</th>\n",
       "      <td>1</td>\n",
       "      <td>0.0</td>\n",
       "      <td>2514</td>\n",
       "      <td>6.28</td>\n",
       "      <td>0.83</td>\n",
       "      <td>7.13</td>\n",
       "      <td>0.96</td>\n",
       "      <td>315.98</td>\n",
       "      <td>0.0051</td>\n",
       "      <td>0.27</td>\n",
       "      <td>1</td>\n",
       "      <td>993.75</td>\n",
       "      <td>7.72</td>\n",
       "      <td>0.0</td>\n",
       "      <td>8.64</td>\n",
       "      <td>45.0</td>\n",
       "      <td>7.77</td>\n",
       "      <td>8.29</td>\n",
       "      <td>2</td>\n",
       "      <td>4</td>\n",
       "    </tr>\n",
       "    <tr>\n",
       "      <th>3</th>\n",
       "      <td>1</td>\n",
       "      <td>0.0</td>\n",
       "      <td>2514</td>\n",
       "      <td>6.28</td>\n",
       "      <td>0.83</td>\n",
       "      <td>7.13</td>\n",
       "      <td>0.96</td>\n",
       "      <td>315.98</td>\n",
       "      <td>0.0051</td>\n",
       "      <td>0.27</td>\n",
       "      <td>1</td>\n",
       "      <td>993.75</td>\n",
       "      <td>7.72</td>\n",
       "      <td>0.0</td>\n",
       "      <td>8.64</td>\n",
       "      <td>45.0</td>\n",
       "      <td>7.77</td>\n",
       "      <td>8.29</td>\n",
       "      <td>2</td>\n",
       "      <td>4</td>\n",
       "    </tr>\n",
       "    <tr>\n",
       "      <th>4</th>\n",
       "      <td>1</td>\n",
       "      <td>0.0</td>\n",
       "      <td>1127</td>\n",
       "      <td>6.28</td>\n",
       "      <td>0.83</td>\n",
       "      <td>7.13</td>\n",
       "      <td>0.96</td>\n",
       "      <td>315.98</td>\n",
       "      <td>0.0051</td>\n",
       "      <td>0.27</td>\n",
       "      <td>1</td>\n",
       "      <td>993.75</td>\n",
       "      <td>7.72</td>\n",
       "      <td>0.0</td>\n",
       "      <td>8.64</td>\n",
       "      <td>45.0</td>\n",
       "      <td>7.77</td>\n",
       "      <td>8.29</td>\n",
       "      <td>2</td>\n",
       "      <td>4</td>\n",
       "    </tr>\n",
       "  </tbody>\n",
       "</table>\n",
       "</div>"
      ],
      "text/plain": [
       "   line  speed  vehicle  apparentTemperature  cloudCover  dewPoint  humidity  \\\n",
       "0     1    0.0     1127                 6.28        0.83      7.13      0.96   \n",
       "1     1    0.0     1127                 6.28        0.83      7.13      0.96   \n",
       "2     1    0.0     2514                 6.28        0.83      7.13      0.96   \n",
       "3     1    0.0     2514                 6.28        0.83      7.13      0.96   \n",
       "4     1    0.0     1127                 6.28        0.83      7.13      0.96   \n",
       "\n",
       "    ozone  precipIntensity  precipProbability  precipType  pressure  \\\n",
       "0  315.98           0.0051               0.27           1    993.75   \n",
       "1  315.98           0.0051               0.27           1    993.75   \n",
       "2  315.98           0.0051               0.27           1    993.75   \n",
       "3  315.98           0.0051               0.27           1    993.75   \n",
       "4  315.98           0.0051               0.27           1    993.75   \n",
       "\n",
       "   temperature  uvIndex  visibility  windBearing  windGust  windSpeed  \\\n",
       "0         7.72      0.0        8.64         45.0      7.77       8.29   \n",
       "1         7.72      0.0        8.64         45.0      7.77       8.29   \n",
       "2         7.72      0.0        8.64         45.0      7.77       8.29   \n",
       "3         7.72      0.0        8.64         45.0      7.77       8.29   \n",
       "4         7.72      0.0        8.64         45.0      7.77       8.29   \n",
       "\n",
       "   dayOfWeek  hourOfDay  \n",
       "0          2          4  \n",
       "1          2          4  \n",
       "2          2          4  \n",
       "3          2          4  \n",
       "4          2          4  "
      ]
     },
     "execution_count": 26,
     "metadata": {},
     "output_type": "execute_result"
    }
   ],
   "source": [
    "targets = culled_data['late']\n",
    "\n",
    "# These give away the answer\n",
    "data_vect = culled_data.drop(['late'], axis=1)\n",
    "data_vect = data_vect.drop(['delay'], axis=1)\n",
    "\n",
    "# Meaningless data that interferes with our models\n",
    "data_vect = data_vect.drop(['latitude'], axis=1)\n",
    "data_vect = data_vect.drop(['longitude'], axis=1)\n",
    "data_vect = data_vect.drop(['time'], axis=1)\n",
    "\n",
    "data_vect.head()"
   ]
  },
  {
   "cell_type": "code",
   "execution_count": 27,
   "metadata": {},
   "outputs": [
    {
     "name": "stdout",
     "output_type": "stream",
     "text": [
      "training_data size =  34072\n",
      "test_data size =  306651\n"
     ]
    },
    {
     "name": "stderr",
     "output_type": "stream",
     "text": [
      "/home/smw/.local/lib/python3.5/site-packages/sklearn/model_selection/_split.py:2026: FutureWarning: From version 0.21, test_size will always complement train_size unless both are specified.\n",
      "  FutureWarning)\n"
     ]
    }
   ],
   "source": [
    "training_data, test_data, train_target, test_target = train_test_split(np.array(data_vect), np.array(targets), train_size=0.1)\n",
    "print('training_data size = ', len(training_data))\n",
    "print('test_data size = ', len(test_data))"
   ]
  },
  {
   "cell_type": "markdown",
   "metadata": {},
   "source": [
    "# Baseline (We have to beat this score)\n",
    "This is the success rate if you always guess that the bus is late"
   ]
  },
  {
   "cell_type": "code",
   "execution_count": 28,
   "metadata": {},
   "outputs": [
    {
     "data": {
      "text/plain": [
       "0.75792350261372043"
      ]
     },
     "execution_count": 28,
     "metadata": {},
     "output_type": "execute_result"
    }
   ],
   "source": [
    "dummy = DummyClassifier('most_frequent')\n",
    "dummy.fit(training_data, train_target)\n",
    "dummy.score(test_data, test_target)"
   ]
  },
  {
   "cell_type": "markdown",
   "metadata": {},
   "source": [
    "# Logistic Regression"
   ]
  },
  {
   "cell_type": "code",
   "execution_count": 29,
   "metadata": {},
   "outputs": [
    {
     "data": {
      "text/plain": [
       "0.76658155362284808"
      ]
     },
     "execution_count": 29,
     "metadata": {},
     "output_type": "execute_result"
    }
   ],
   "source": [
    "model = LogisticRegression()\n",
    "model.fit(training_data, train_target)\n",
    "model.score(test_data, test_target)"
   ]
  },
  {
   "cell_type": "code",
   "execution_count": 89,
   "metadata": {},
   "outputs": [
    {
     "data": {
      "text/html": [
       "<div>\n",
       "<style>\n",
       "    .dataframe thead tr:only-child th {\n",
       "        text-align: right;\n",
       "    }\n",
       "\n",
       "    .dataframe thead th {\n",
       "        text-align: left;\n",
       "    }\n",
       "\n",
       "    .dataframe tbody tr th {\n",
       "        vertical-align: top;\n",
       "    }\n",
       "</style>\n",
       "<table border=\"1\" class=\"dataframe\">\n",
       "  <thead>\n",
       "    <tr style=\"text-align: right;\">\n",
       "      <th></th>\n",
       "      <th>coefficient</th>\n",
       "      <th>magnitude</th>\n",
       "    </tr>\n",
       "  </thead>\n",
       "  <tbody>\n",
       "    <tr>\n",
       "      <th>speed</th>\n",
       "      <td>-0.316824</td>\n",
       "      <td>1.003773e-01</td>\n",
       "    </tr>\n",
       "    <tr>\n",
       "      <th>hourOfDay</th>\n",
       "      <td>0.187639</td>\n",
       "      <td>3.520841e-02</td>\n",
       "    </tr>\n",
       "    <tr>\n",
       "      <th>temperature</th>\n",
       "      <td>-0.175835</td>\n",
       "      <td>3.091809e-02</td>\n",
       "    </tr>\n",
       "    <tr>\n",
       "      <th>windGust</th>\n",
       "      <td>0.174056</td>\n",
       "      <td>3.029556e-02</td>\n",
       "    </tr>\n",
       "    <tr>\n",
       "      <th>dayOfWeek</th>\n",
       "      <td>0.163291</td>\n",
       "      <td>2.666411e-02</td>\n",
       "    </tr>\n",
       "    <tr>\n",
       "      <th>humidity</th>\n",
       "      <td>0.132286</td>\n",
       "      <td>1.749951e-02</td>\n",
       "    </tr>\n",
       "    <tr>\n",
       "      <th>precipProbability</th>\n",
       "      <td>0.114924</td>\n",
       "      <td>1.320754e-02</td>\n",
       "    </tr>\n",
       "    <tr>\n",
       "      <th>uvIndex</th>\n",
       "      <td>0.094615</td>\n",
       "      <td>8.952089e-03</td>\n",
       "    </tr>\n",
       "    <tr>\n",
       "      <th>dewPoint</th>\n",
       "      <td>-0.085327</td>\n",
       "      <td>7.280763e-03</td>\n",
       "    </tr>\n",
       "    <tr>\n",
       "      <th>ozone</th>\n",
       "      <td>-0.082151</td>\n",
       "      <td>6.748787e-03</td>\n",
       "    </tr>\n",
       "    <tr>\n",
       "      <th>cloudCover</th>\n",
       "      <td>0.071029</td>\n",
       "      <td>5.045069e-03</td>\n",
       "    </tr>\n",
       "    <tr>\n",
       "      <th>precipType</th>\n",
       "      <td>-0.067876</td>\n",
       "      <td>4.607207e-03</td>\n",
       "    </tr>\n",
       "    <tr>\n",
       "      <th>line</th>\n",
       "      <td>0.066165</td>\n",
       "      <td>4.377864e-03</td>\n",
       "    </tr>\n",
       "    <tr>\n",
       "      <th>vehicle</th>\n",
       "      <td>0.036731</td>\n",
       "      <td>1.349173e-03</td>\n",
       "    </tr>\n",
       "    <tr>\n",
       "      <th>apparentTemperature</th>\n",
       "      <td>0.014116</td>\n",
       "      <td>1.992733e-04</td>\n",
       "    </tr>\n",
       "    <tr>\n",
       "      <th>windSpeed</th>\n",
       "      <td>-0.007835</td>\n",
       "      <td>6.138406e-05</td>\n",
       "    </tr>\n",
       "    <tr>\n",
       "      <th>windBearing</th>\n",
       "      <td>0.005027</td>\n",
       "      <td>2.527134e-05</td>\n",
       "    </tr>\n",
       "    <tr>\n",
       "      <th>pressure</th>\n",
       "      <td>-0.002071</td>\n",
       "      <td>4.287090e-06</td>\n",
       "    </tr>\n",
       "    <tr>\n",
       "      <th>precipIntensity</th>\n",
       "      <td>0.001164</td>\n",
       "      <td>1.354268e-06</td>\n",
       "    </tr>\n",
       "    <tr>\n",
       "      <th>visibility</th>\n",
       "      <td>0.000399</td>\n",
       "      <td>1.588227e-07</td>\n",
       "    </tr>\n",
       "  </tbody>\n",
       "</table>\n",
       "</div>"
      ],
      "text/plain": [
       "                     coefficient     magnitude\n",
       "speed                  -0.316824  1.003773e-01\n",
       "hourOfDay               0.187639  3.520841e-02\n",
       "temperature            -0.175835  3.091809e-02\n",
       "windGust                0.174056  3.029556e-02\n",
       "dayOfWeek               0.163291  2.666411e-02\n",
       "humidity                0.132286  1.749951e-02\n",
       "precipProbability       0.114924  1.320754e-02\n",
       "uvIndex                 0.094615  8.952089e-03\n",
       "dewPoint               -0.085327  7.280763e-03\n",
       "ozone                  -0.082151  6.748787e-03\n",
       "cloudCover              0.071029  5.045069e-03\n",
       "precipType             -0.067876  4.607207e-03\n",
       "line                    0.066165  4.377864e-03\n",
       "vehicle                 0.036731  1.349173e-03\n",
       "apparentTemperature     0.014116  1.992733e-04\n",
       "windSpeed              -0.007835  6.138406e-05\n",
       "windBearing             0.005027  2.527134e-05\n",
       "pressure               -0.002071  4.287090e-06\n",
       "precipIntensity         0.001164  1.354268e-06\n",
       "visibility              0.000399  1.588227e-07"
      ]
     },
     "execution_count": 89,
     "metadata": {},
     "output_type": "execute_result"
    }
   ],
   "source": [
    "# Fit with standardized parameters\n",
    "model.fit(training_data / np.std(training_data, 0), train_target)\n",
    "\n",
    "coefficients = list(model.coef_[0])\n",
    "\n",
    "magnitudes = []\n",
    "for h in coefficients:\n",
    "    magnitudes.append(h*h)\n",
    "    \n",
    "df = pd.DataFrame(coefficients, index=data_vect.columns, columns=['coefficient'])\n",
    "df['magnitude'] = magnitudes\n",
    "\n",
    "df.sort_values(by='magnitude', ascending=False)"
   ]
  },
  {
   "cell_type": "markdown",
   "metadata": {},
   "source": [
    "# Decision Trees"
   ]
  },
  {
   "cell_type": "code",
   "execution_count": 8,
   "metadata": {},
   "outputs": [
    {
     "data": {
      "text/plain": [
       "0.85621835791327316"
      ]
     },
     "execution_count": 8,
     "metadata": {},
     "output_type": "execute_result"
    }
   ],
   "source": [
    "tree_model = tree.DecisionTreeClassifier()\n",
    "tree_model.fit(training_data, train_target)\n",
    "tree_model.score(test_data, test_target)"
   ]
  },
  {
   "cell_type": "code",
   "execution_count": 86,
   "metadata": {},
   "outputs": [
    {
     "data": {
      "text/html": [
       "<div>\n",
       "<style>\n",
       "    .dataframe thead tr:only-child th {\n",
       "        text-align: right;\n",
       "    }\n",
       "\n",
       "    .dataframe thead th {\n",
       "        text-align: left;\n",
       "    }\n",
       "\n",
       "    .dataframe tbody tr th {\n",
       "        vertical-align: top;\n",
       "    }\n",
       "</style>\n",
       "<table border=\"1\" class=\"dataframe\">\n",
       "  <thead>\n",
       "    <tr style=\"text-align: right;\">\n",
       "      <th></th>\n",
       "      <th>importance</th>\n",
       "    </tr>\n",
       "  </thead>\n",
       "  <tbody>\n",
       "    <tr>\n",
       "      <th>vehicle</th>\n",
       "      <td>0.449046</td>\n",
       "    </tr>\n",
       "    <tr>\n",
       "      <th>speed</th>\n",
       "      <td>0.070400</td>\n",
       "    </tr>\n",
       "    <tr>\n",
       "      <th>ozone</th>\n",
       "      <td>0.050903</td>\n",
       "    </tr>\n",
       "    <tr>\n",
       "      <th>hourOfDay</th>\n",
       "      <td>0.050763</td>\n",
       "    </tr>\n",
       "    <tr>\n",
       "      <th>line</th>\n",
       "      <td>0.042297</td>\n",
       "    </tr>\n",
       "    <tr>\n",
       "      <th>windBearing</th>\n",
       "      <td>0.041408</td>\n",
       "    </tr>\n",
       "    <tr>\n",
       "      <th>windSpeed</th>\n",
       "      <td>0.040601</td>\n",
       "    </tr>\n",
       "    <tr>\n",
       "      <th>pressure</th>\n",
       "      <td>0.037224</td>\n",
       "    </tr>\n",
       "    <tr>\n",
       "      <th>apparentTemperature</th>\n",
       "      <td>0.035833</td>\n",
       "    </tr>\n",
       "    <tr>\n",
       "      <th>windGust</th>\n",
       "      <td>0.033929</td>\n",
       "    </tr>\n",
       "    <tr>\n",
       "      <th>cloudCover</th>\n",
       "      <td>0.030817</td>\n",
       "    </tr>\n",
       "    <tr>\n",
       "      <th>temperature</th>\n",
       "      <td>0.029519</td>\n",
       "    </tr>\n",
       "    <tr>\n",
       "      <th>dewPoint</th>\n",
       "      <td>0.029278</td>\n",
       "    </tr>\n",
       "    <tr>\n",
       "      <th>humidity</th>\n",
       "      <td>0.020252</td>\n",
       "    </tr>\n",
       "    <tr>\n",
       "      <th>dayOfWeek</th>\n",
       "      <td>0.016463</td>\n",
       "    </tr>\n",
       "    <tr>\n",
       "      <th>visibility</th>\n",
       "      <td>0.013717</td>\n",
       "    </tr>\n",
       "    <tr>\n",
       "      <th>uvIndex</th>\n",
       "      <td>0.002551</td>\n",
       "    </tr>\n",
       "    <tr>\n",
       "      <th>precipIntensity</th>\n",
       "      <td>0.002481</td>\n",
       "    </tr>\n",
       "    <tr>\n",
       "      <th>precipType</th>\n",
       "      <td>0.001587</td>\n",
       "    </tr>\n",
       "    <tr>\n",
       "      <th>precipProbability</th>\n",
       "      <td>0.000928</td>\n",
       "    </tr>\n",
       "  </tbody>\n",
       "</table>\n",
       "</div>"
      ],
      "text/plain": [
       "                     importance\n",
       "vehicle                0.449046\n",
       "speed                  0.070400\n",
       "ozone                  0.050903\n",
       "hourOfDay              0.050763\n",
       "line                   0.042297\n",
       "windBearing            0.041408\n",
       "windSpeed              0.040601\n",
       "pressure               0.037224\n",
       "apparentTemperature    0.035833\n",
       "windGust               0.033929\n",
       "cloudCover             0.030817\n",
       "temperature            0.029519\n",
       "dewPoint               0.029278\n",
       "humidity               0.020252\n",
       "dayOfWeek              0.016463\n",
       "visibility             0.013717\n",
       "uvIndex                0.002551\n",
       "precipIntensity        0.002481\n",
       "precipType             0.001587\n",
       "precipProbability      0.000928"
      ]
     },
     "execution_count": 86,
     "metadata": {},
     "output_type": "execute_result"
    }
   ],
   "source": [
    "df = pd.DataFrame(tree_model.feature_importances_, index=data_vect.columns, columns=['importance'])\n",
    "df.sort_values(by='importance', ascending=False)"
   ]
  },
  {
   "cell_type": "markdown",
   "metadata": {},
   "source": [
    "# Random Forest"
   ]
  },
  {
   "cell_type": "code",
   "execution_count": 9,
   "metadata": {},
   "outputs": [
    {
     "data": {
      "text/plain": [
       "0.85613031036759846"
      ]
     },
     "execution_count": 9,
     "metadata": {},
     "output_type": "execute_result"
    }
   ],
   "source": [
    "forest_model = RandomForestClassifier()\n",
    "forest_model.fit(training_data, train_target)\n",
    "forest_model.score(test_data, test_target)"
   ]
  },
  {
   "cell_type": "markdown",
   "metadata": {},
   "source": [
    "# TPOT\n",
    "pip install tpot"
   ]
  },
  {
   "cell_type": "code",
   "execution_count": 16,
   "metadata": {},
   "outputs": [
    {
     "name": "stdout",
     "output_type": "stream",
     "text": [
      "Warning: xgboost.XGBClassifier is not available and will not be used by TPOT.\n"
     ]
    },
    {
     "name": "stderr",
     "output_type": "stream",
     "text": [
      "Optimization Progress:  60%|██████    | 12/20 [02:00<06:21, 47.67s/pipeline]"
     ]
    },
    {
     "name": "stdout",
     "output_type": "stream",
     "text": [
      "Generation 1 - Current best internal CV score: 0.7681088329430948\n"
     ]
    },
    {
     "name": "stderr",
     "output_type": "stream",
     "text": [
      "Optimization Progress:  85%|████████▌ | 17/20 [02:50<01:32, 30.73s/pipeline]"
     ]
    },
    {
     "name": "stdout",
     "output_type": "stream",
     "text": [
      "Generation 2 - Current best internal CV score: 0.7727166997470358\n"
     ]
    },
    {
     "name": "stderr",
     "output_type": "stream",
     "text": [
      "                                                                            \r"
     ]
    },
    {
     "name": "stdout",
     "output_type": "stream",
     "text": [
      "Generation 3 - Current best internal CV score: 0.7727166997470358\n",
      "\n",
      "Best pipeline: ExtraTreesClassifier(input_matrix, bootstrap=True, criterion=gini, max_features=0.35, min_samples_leaf=12, min_samples_split=16, n_estimators=100)\n",
      "0.771897042566\n"
     ]
    }
   ],
   "source": [
    "tpot = TPOTClassifier(generations=3, population_size=5, verbosity=2, n_jobs=4, max_eval_time_mins=1)\n",
    "tpot.fit(training_data, train_target)\n",
    "print(tpot.score(test_data, test_target))"
   ]
  },
  {
   "cell_type": "code",
   "execution_count": null,
   "metadata": {},
   "outputs": [],
   "source": []
  }
 ],
 "metadata": {
  "kernelspec": {
   "display_name": "Python 3",
   "language": "python",
   "name": "python3"
  },
  "language_info": {
   "codemirror_mode": {
    "name": "ipython",
    "version": 3
   },
   "file_extension": ".py",
   "mimetype": "text/x-python",
   "name": "python",
   "nbconvert_exporter": "python",
   "pygments_lexer": "ipython3",
   "version": "3.5.3"
  }
 },
 "nbformat": 4,
 "nbformat_minor": 2
}
