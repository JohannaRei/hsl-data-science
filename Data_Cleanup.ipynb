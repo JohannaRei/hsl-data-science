{
 "cells": [
  {
   "cell_type": "code",
   "execution_count": 1,
   "metadata": {},
   "outputs": [],
   "source": [
    "import pandas as pd\n",
    "import numpy as np"
   ]
  },
  {
   "cell_type": "markdown",
   "metadata": {},
   "source": [
    "# Create the full data table"
   ]
  },
  {
   "cell_type": "code",
   "execution_count": 2,
   "metadata": {},
   "outputs": [
    {
     "data": {
      "text/plain": [
       "(11440778, 19)"
      ]
     },
     "execution_count": 2,
     "metadata": {},
     "output_type": "execute_result"
    }
   ],
   "source": [
    "data_sets = [\"data/parsed/2017-10-11.csv.gz\",\n",
    "            \"data/parsed/2017-10-12.csv.gz\",\n",
    "            \"data/parsed/2017-10-13.csv.gz\",\n",
    "            \"data/parsed/2017-10-14.csv.gz\",\n",
    "            \"data/parsed/2017-10-15.csv.gz\",\n",
    "            \"data/parsed/2017-10-16.csv.gz\",\n",
    "            \"data/parsed/2017-10-17.csv.gz\",\n",
    "            \"data/parsed/2017-10-18.csv.gz\",\n",
    "            \"data/parsed/2017-10-19.csv.gz\",\n",
    "            \"data/parsed/2017-10-20.csv.gz\",\n",
    "            \"data/parsed/2017-10-21.csv.gz\",\n",
    "            \"data/parsed/2017-10-22.csv.gz\",\n",
    "            \"data/parsed/2017-10-23.csv.gz\"]\n",
    "\n",
    "full_data = pd.DataFrame()\n",
    "\n",
    "for file in data_sets:\n",
    "    partial_data = pd.read_csv(file)\n",
    "    full_data = pd.concat([full_data, partial_data], axis=0)\n",
    "    \n",
    "full_data.shape"
   ]
  },
  {
   "cell_type": "code",
   "execution_count": 3,
   "metadata": {},
   "outputs": [
    {
     "data": {
      "text/html": [
       "<div>\n",
       "<style>\n",
       "    .dataframe thead tr:only-child th {\n",
       "        text-align: right;\n",
       "    }\n",
       "\n",
       "    .dataframe thead th {\n",
       "        text-align: left;\n",
       "    }\n",
       "\n",
       "    .dataframe tbody tr th {\n",
       "        vertical-align: top;\n",
       "    }\n",
       "</style>\n",
       "<table border=\"1\" class=\"dataframe\">\n",
       "  <thead>\n",
       "    <tr style=\"text-align: right;\">\n",
       "      <th></th>\n",
       "      <th>apparentTemperature</th>\n",
       "      <th>cloudCover</th>\n",
       "      <th>dewPoint</th>\n",
       "      <th>humidity</th>\n",
       "      <th>icon</th>\n",
       "      <th>ozone</th>\n",
       "      <th>precipIntensity</th>\n",
       "      <th>precipProbability</th>\n",
       "      <th>precipType</th>\n",
       "      <th>pressure</th>\n",
       "      <th>summary</th>\n",
       "      <th>temperature</th>\n",
       "      <th>time</th>\n",
       "      <th>uvIndex</th>\n",
       "      <th>visibility</th>\n",
       "      <th>windBearing</th>\n",
       "      <th>windGust</th>\n",
       "      <th>windSpeed</th>\n",
       "    </tr>\n",
       "  </thead>\n",
       "  <tbody>\n",
       "    <tr>\n",
       "      <th>0</th>\n",
       "      <td>5.81</td>\n",
       "      <td>0.63</td>\n",
       "      <td>7.21</td>\n",
       "      <td>0.96</td>\n",
       "      <td>partly-cloudy-night</td>\n",
       "      <td>314.18</td>\n",
       "      <td>0.0076</td>\n",
       "      <td>0.30</td>\n",
       "      <td>rain</td>\n",
       "      <td>993.96</td>\n",
       "      <td>Mostly Cloudy</td>\n",
       "      <td>7.77</td>\n",
       "      <td>1507680000</td>\n",
       "      <td>0</td>\n",
       "      <td>9.72</td>\n",
       "      <td>68</td>\n",
       "      <td>11.99</td>\n",
       "      <td>10.93</td>\n",
       "    </tr>\n",
       "    <tr>\n",
       "      <th>1</th>\n",
       "      <td>5.98</td>\n",
       "      <td>0.70</td>\n",
       "      <td>7.19</td>\n",
       "      <td>0.96</td>\n",
       "      <td>partly-cloudy-night</td>\n",
       "      <td>314.63</td>\n",
       "      <td>0.0076</td>\n",
       "      <td>0.27</td>\n",
       "      <td>rain</td>\n",
       "      <td>993.88</td>\n",
       "      <td>Mostly Cloudy</td>\n",
       "      <td>7.78</td>\n",
       "      <td>1507681200</td>\n",
       "      <td>0</td>\n",
       "      <td>9.24</td>\n",
       "      <td>65</td>\n",
       "      <td>10.77</td>\n",
       "      <td>10.06</td>\n",
       "    </tr>\n",
       "    <tr>\n",
       "      <th>2</th>\n",
       "      <td>6.16</td>\n",
       "      <td>0.76</td>\n",
       "      <td>7.18</td>\n",
       "      <td>0.96</td>\n",
       "      <td>partly-cloudy-night</td>\n",
       "      <td>315.07</td>\n",
       "      <td>0.0051</td>\n",
       "      <td>0.24</td>\n",
       "      <td>rain</td>\n",
       "      <td>993.80</td>\n",
       "      <td>Mostly Cloudy</td>\n",
       "      <td>7.78</td>\n",
       "      <td>1507682400</td>\n",
       "      <td>0</td>\n",
       "      <td>8.74</td>\n",
       "      <td>62</td>\n",
       "      <td>9.53</td>\n",
       "      <td>9.22</td>\n",
       "    </tr>\n",
       "    <tr>\n",
       "      <th>3</th>\n",
       "      <td>6.43</td>\n",
       "      <td>0.82</td>\n",
       "      <td>7.18</td>\n",
       "      <td>0.96</td>\n",
       "      <td>partly-cloudy-night</td>\n",
       "      <td>315.52</td>\n",
       "      <td>0.0076</td>\n",
       "      <td>0.30</td>\n",
       "      <td>rain</td>\n",
       "      <td>993.75</td>\n",
       "      <td>Mostly Cloudy</td>\n",
       "      <td>7.77</td>\n",
       "      <td>1507683600</td>\n",
       "      <td>0</td>\n",
       "      <td>8.69</td>\n",
       "      <td>55</td>\n",
       "      <td>8.30</td>\n",
       "      <td>7.89</td>\n",
       "    </tr>\n",
       "    <tr>\n",
       "      <th>4</th>\n",
       "      <td>6.28</td>\n",
       "      <td>0.83</td>\n",
       "      <td>7.13</td>\n",
       "      <td>0.96</td>\n",
       "      <td>partly-cloudy-night</td>\n",
       "      <td>315.98</td>\n",
       "      <td>0.0051</td>\n",
       "      <td>0.27</td>\n",
       "      <td>rain</td>\n",
       "      <td>993.75</td>\n",
       "      <td>Mostly Cloudy</td>\n",
       "      <td>7.72</td>\n",
       "      <td>1507684800</td>\n",
       "      <td>0</td>\n",
       "      <td>8.64</td>\n",
       "      <td>45</td>\n",
       "      <td>7.77</td>\n",
       "      <td>8.29</td>\n",
       "    </tr>\n",
       "  </tbody>\n",
       "</table>\n",
       "</div>"
      ],
      "text/plain": [
       "   apparentTemperature  cloudCover  dewPoint  humidity                 icon  \\\n",
       "0                 5.81        0.63      7.21      0.96  partly-cloudy-night   \n",
       "1                 5.98        0.70      7.19      0.96  partly-cloudy-night   \n",
       "2                 6.16        0.76      7.18      0.96  partly-cloudy-night   \n",
       "3                 6.43        0.82      7.18      0.96  partly-cloudy-night   \n",
       "4                 6.28        0.83      7.13      0.96  partly-cloudy-night   \n",
       "\n",
       "    ozone  precipIntensity  precipProbability precipType  pressure  \\\n",
       "0  314.18           0.0076               0.30       rain    993.96   \n",
       "1  314.63           0.0076               0.27       rain    993.88   \n",
       "2  315.07           0.0051               0.24       rain    993.80   \n",
       "3  315.52           0.0076               0.30       rain    993.75   \n",
       "4  315.98           0.0051               0.27       rain    993.75   \n",
       "\n",
       "         summary  temperature        time  uvIndex  visibility  windBearing  \\\n",
       "0  Mostly Cloudy         7.77  1507680000        0        9.72           68   \n",
       "1  Mostly Cloudy         7.78  1507681200        0        9.24           65   \n",
       "2  Mostly Cloudy         7.78  1507682400        0        8.74           62   \n",
       "3  Mostly Cloudy         7.77  1507683600        0        8.69           55   \n",
       "4  Mostly Cloudy         7.72  1507684800        0        8.64           45   \n",
       "\n",
       "   windGust  windSpeed  \n",
       "0     11.99      10.93  \n",
       "1     10.77      10.06  \n",
       "2      9.53       9.22  \n",
       "3      8.30       7.89  \n",
       "4      7.77       8.29  "
      ]
     },
     "execution_count": 3,
     "metadata": {},
     "output_type": "execute_result"
    }
   ],
   "source": [
    "weather = pd.read_csv(\"data/all_weather.csv\")\n",
    "weather.head()"
   ]
  },
  {
   "cell_type": "markdown",
   "metadata": {},
   "source": [
    "# (Optional) Cull the data to only observe certain routes\n",
    "10 should be enough\n",
    "\n",
    "This could be done at this point, or after the data is fully cleaned up"
   ]
  },
  {
   "cell_type": "code",
   "execution_count": 4,
   "metadata": {},
   "outputs": [],
   "source": [
    "#TODO"
   ]
  },
  {
   "cell_type": "markdown",
   "metadata": {},
   "source": [
    "# Combine weather data"
   ]
  },
  {
   "cell_type": "markdown",
   "metadata": {},
   "source": [
    "### TODO:"
   ]
  },
  {
   "cell_type": "code",
   "execution_count": 5,
   "metadata": {},
   "outputs": [
    {
     "data": {
      "text/plain": [
       "apparentTemperature                 4.57\n",
       "cloudCover                          0.69\n",
       "dewPoint                            6.45\n",
       "humidity                            0.96\n",
       "icon                   partly-cloudy-day\n",
       "ozone                             327.59\n",
       "precipIntensity                        0\n",
       "precipProbability                      0\n",
       "precipType                           NaN\n",
       "pressure                          996.06\n",
       "summary                    Mostly Cloudy\n",
       "temperature                         7.12\n",
       "time                          1507708800\n",
       "uvIndex                                1\n",
       "visibility                         12.02\n",
       "windBearing                          345\n",
       "windGust                            16.5\n",
       "windSpeed                          13.68\n",
       "Name: 24, dtype: object"
      ]
     },
     "execution_count": 5,
     "metadata": {},
     "output_type": "execute_result"
    }
   ],
   "source": [
    "# Finds the index in the weather dataframe that corresponds to the latest weather update\n",
    "def closest_weather_index(timestamp):\n",
    "    for i in range(weather.time.size - 1):\n",
    "        if weather.time[i + 1] > timestamp:\n",
    "            return i\n",
    "    return 0\n",
    "\n",
    "# An example could be useful\n",
    "time_now = 1507708801\n",
    "index = closest_weather_index(time_now)\n",
    "weather.iloc[index]"
   ]
  },
  {
   "cell_type": "code",
   "execution_count": 6,
   "metadata": {},
   "outputs": [],
   "source": [
    "# TODO"
   ]
  },
  {
   "cell_type": "markdown",
   "metadata": {},
   "source": [
    "# Remove unnecessary columns"
   ]
  },
  {
   "cell_type": "code",
   "execution_count": 7,
   "metadata": {},
   "outputs": [],
   "source": [
    "# TODO"
   ]
  },
  {
   "cell_type": "markdown",
   "metadata": {},
   "source": [
    "# Handle missing values"
   ]
  },
  {
   "cell_type": "code",
   "execution_count": 8,
   "metadata": {},
   "outputs": [],
   "source": [
    "# TODO"
   ]
  },
  {
   "cell_type": "markdown",
   "metadata": {},
   "source": [
    "# Add a \"Late\" column\n",
    "Give it a value of 1 if late, 0 if on time\n",
    "\n",
    "The bus's GPS data will have to be cross-referenced with scheduled stop times and stop coordinates\n",
    "\n",
    "http://dev.hsl.fi/\n",
    "\n",
    "This is a large undertaking, so the data should be culled beforehand"
   ]
  },
  {
   "cell_type": "code",
   "execution_count": 9,
   "metadata": {},
   "outputs": [],
   "source": [
    "# TODO"
   ]
  },
  {
   "cell_type": "markdown",
   "metadata": {},
   "source": [
    "# Data Science\n",
    "- Graphs\n",
    "- Regression\n",
    "- etc"
   ]
  },
  {
   "cell_type": "code",
   "execution_count": 10,
   "metadata": {},
   "outputs": [],
   "source": [
    "# TODO"
   ]
  },
  {
   "cell_type": "code",
   "execution_count": null,
   "metadata": {},
   "outputs": [],
   "source": []
  }
 ],
 "metadata": {
  "kernelspec": {
   "display_name": "Python 3",
   "language": "python",
   "name": "python3"
  },
  "language_info": {
   "codemirror_mode": {
    "name": "ipython",
    "version": 3
   },
   "file_extension": ".py",
   "mimetype": "text/x-python",
   "name": "python",
   "nbconvert_exporter": "python",
   "pygments_lexer": "ipython3",
   "version": "3.5.3"
  }
 },
 "nbformat": 4,
 "nbformat_minor": 2
}
